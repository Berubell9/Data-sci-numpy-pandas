{
 "metadata": {
  "language_info": {
   "codemirror_mode": {
    "name": "ipython",
    "version": 3
   },
   "file_extension": ".py",
   "mimetype": "text/x-python",
   "name": "python",
   "nbconvert_exporter": "python",
   "pygments_lexer": "ipython3",
   "version": "3.9.5"
  },
  "orig_nbformat": 4,
  "kernelspec": {
   "name": "python3",
   "display_name": "Python 3.9.5 64-bit"
  },
  "interpreter": {
   "hash": "be0d47e84fc7e33404042284385234951e1b0faf579e24fe77c71b4cdf8dd2cc"
  }
 },
 "nbformat": 4,
 "nbformat_minor": 2,
 "cells": [
  {
   "cell_type": "code",
   "execution_count": 1,
   "metadata": {},
   "outputs": [],
   "source": [
    "import numpy as np\n",
    "import pandas as pd"
   ]
  },
  {
   "cell_type": "code",
   "execution_count": 4,
   "metadata": {},
   "outputs": [
    {
     "output_type": "stream",
     "name": "stdout",
     "text": [
      "day1    420\nday2    300\nday3    390\ndtype: int64\n"
     ]
    }
   ],
   "source": [
    "set = {\"day1\" : 420 ,\"day2\" : 300,\"day3\" : 390}\n",
    "a = pd.Series(set)\n",
    "print(a)"
   ]
  },
  {
   "cell_type": "code",
   "execution_count": 5,
   "metadata": {},
   "outputs": [
    {
     "output_type": "stream",
     "name": "stdout",
     "text": [
      "day1    [420, 1, 2]\nday2    [300, 3, 4]\nday3    [390, 5, 6]\ndtype: object\n"
     ]
    }
   ],
   "source": [
    "set = {\"day1\" : [420,1,2] ,\"day2\" : [300,3,4],\"day3\" : [390,5,6]}\n",
    "a = pd.Series(set)\n",
    "print(a)"
   ]
  },
  {
   "cell_type": "code",
   "execution_count": 7,
   "metadata": {},
   "outputs": [
    {
     "output_type": "stream",
     "name": "stdout",
     "text": [
      "day1    420\nday2    300\nday3    390\nName: 0, dtype: int64\n"
     ]
    }
   ],
   "source": [
    "set = {\"day1\" : [420,1,2] ,\"day2\" : [300,3,4],\"day3\" : [390,5,6]}\n",
    "a = pd.DataFrame(set)\n",
    "print(a.loc[0]) #ดูข้อมูลตำเเหน่งที่ 0"
   ]
  },
  {
   "cell_type": "code",
   "execution_count": 6,
   "metadata": {},
   "outputs": [
    {
     "output_type": "stream",
     "name": "stdout",
     "text": [
      "   day1  day2  day3\n0   420   300   390\n1     1     3     5\n2     2     4     6\n"
     ]
    }
   ],
   "source": [
    "set = {\"day1\" : [420,1,2] ,\"day2\" : [300,3,4],\"day3\" : [390,5,6]}\n",
    "a = pd.DataFrame(set) #เอาข้อมูลมาจัดเรียงเเบบ Xcel(ตาราง)\n",
    "print(a) "
   ]
  },
  {
   "cell_type": "code",
   "execution_count": 8,
   "metadata": {},
   "outputs": [
    {
     "output_type": "stream",
     "name": "stdout",
     "text": [
      "   day1  day2  day3\n1   420   300   390\n2     1     3     5\n3     2     4     6\n"
     ]
    }
   ],
   "source": [
    "set = {\"day1\" : [420,1,2] ,\"day2\" : [300,3,4],\"day3\" : [390,5,6]}\n",
    "a = pd.DataFrame(set, index = [1,2,3])\n",
    "print(a)"
   ]
  },
  {
   "cell_type": "code",
   "execution_count": 10,
   "metadata": {},
   "outputs": [
    {
     "output_type": "execute_result",
     "data": {
      "text/plain": [
       "   day1  day2  day3\n",
       "1   420   300   390\n",
       "2     1     3     5\n",
       "3     2     4     6"
      ],
      "text/html": "<div>\n<style scoped>\n    .dataframe tbody tr th:only-of-type {\n        vertical-align: middle;\n    }\n\n    .dataframe tbody tr th {\n        vertical-align: top;\n    }\n\n    .dataframe thead th {\n        text-align: right;\n    }\n</style>\n<table border=\"1\" class=\"dataframe\">\n  <thead>\n    <tr style=\"text-align: right;\">\n      <th></th>\n      <th>day1</th>\n      <th>day2</th>\n      <th>day3</th>\n    </tr>\n  </thead>\n  <tbody>\n    <tr>\n      <th>1</th>\n      <td>420</td>\n      <td>300</td>\n      <td>390</td>\n    </tr>\n    <tr>\n      <th>2</th>\n      <td>1</td>\n      <td>3</td>\n      <td>5</td>\n    </tr>\n    <tr>\n      <th>3</th>\n      <td>2</td>\n      <td>4</td>\n      <td>6</td>\n    </tr>\n  </tbody>\n</table>\n</div>"
     },
     "metadata": {},
     "execution_count": 10
    }
   ],
   "source": [
    "set = {\"day1\" : [420,1,2] ,\"day2\" : [300,3,4],\"day3\" : [390,5,6]}\n",
    "a = pd.DataFrame(set, index = [1,2,3])\n",
    "a #ทำเป็นคอลัมสวยๆ"
   ]
  },
  {
   "cell_type": "code",
   "execution_count": null,
   "metadata": {},
   "outputs": [],
   "source": []
  }
 ]
}