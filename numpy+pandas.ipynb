{
 "metadata": {
  "language_info": {
   "codemirror_mode": {
    "name": "ipython",
    "version": 3
   },
   "file_extension": ".py",
   "mimetype": "text/x-python",
   "name": "python",
   "nbconvert_exporter": "python",
   "pygments_lexer": "ipython3",
   "version": "3.9.5"
  },
  "orig_nbformat": 4,
  "kernelspec": {
   "name": "python3",
   "display_name": "Python 3.9.5 64-bit"
  },
  "interpreter": {
   "hash": "be0d47e84fc7e33404042284385234951e1b0faf579e24fe77c71b4cdf8dd2cc"
  }
 },
 "nbformat": 4,
 "nbformat_minor": 2,
 "cells": [
  {
   "cell_type": "code",
   "execution_count": 3,
   "metadata": {},
   "outputs": [],
   "source": [
    "import numpy as np\n",
    "import pandas as pd"
   ]
  },
  {
   "cell_type": "code",
   "execution_count": 18,
   "metadata": {},
   "outputs": [
    {
     "output_type": "stream",
     "name": "stdout",
     "text": [
      "0    1\n1    2\n2    3\n3    4\n4    5\n5    6\n6    7\n7    8\ndtype: int32\n------------------------------\n5\n"
     ]
    }
   ],
   "source": [
    "a = np.array([1,2,3,4,5,6,7,8])\n",
    "b = pd.Series(a) #เเสดงผลข้อมูลตามตำเเหน่ง(เอา list set มาอ่านด้วย pandas)\n",
    "print(b)\n",
    "print(\"------------------------------\")\n",
    "print(a[4]) #ดูข้อมูลตำเเหน่งที่ 4 "
   ]
  },
  {
   "cell_type": "code",
   "execution_count": 11,
   "metadata": {},
   "outputs": [
    {
     "output_type": "stream",
     "name": "stdout",
     "text": [
      "1    1\n2    2\n3    3\n4    4\n5    5\n6    6\n7    7\n8    8\ndtype: int32\n"
     ]
    }
   ],
   "source": [
    "a = np.array([1,2,3,4,5,6,7,8])\n",
    "b = pd.Series(a ,index = a) #index ใช้ข้อมูลเเทนที่ตำเเหน่งของ list\n",
    "print(b)"
   ]
  },
  {
   "cell_type": "code",
   "execution_count": 17,
   "metadata": {},
   "outputs": [
    {
     "output_type": "stream",
     "name": "stdout",
     "text": [
      "A    1\nB    2\nC    3\nD    4\nE    5\nF    6\nG    7\nH    8\ndtype: int32\n------------------------------\n1\n"
     ]
    }
   ],
   "source": [
    "a = np.array([1,2,3,4,5,6,7,8])\n",
    "b = pd.Series(a ,index = [\"A\",\"B\",\"C\",\"D\",\"E\",\"F\",\"G\",\"H\"]) #เเทนที่ตำเเหน่งด้วย A-H\n",
    "print(b)\n",
    "print(\"------------------------------\")\n",
    "print(b[\"A\"]) #ดูข้อมูลตำเเหน่ง A"
   ]
  },
  {
   "cell_type": "code",
   "execution_count": null,
   "metadata": {},
   "outputs": [],
   "source": []
  }
 ]
}