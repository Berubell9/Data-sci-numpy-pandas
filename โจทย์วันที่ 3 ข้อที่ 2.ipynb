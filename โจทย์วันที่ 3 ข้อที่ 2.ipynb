{
 "metadata": {
  "language_info": {
   "codemirror_mode": {
    "name": "ipython",
    "version": 3
   },
   "file_extension": ".py",
   "mimetype": "text/x-python",
   "name": "python",
   "nbconvert_exporter": "python",
   "pygments_lexer": "ipython3",
   "version": "3.9.5"
  },
  "orig_nbformat": 4,
  "kernelspec": {
   "name": "python3",
   "display_name": "Python 3.9.5 64-bit"
  },
  "interpreter": {
   "hash": "be0d47e84fc7e33404042284385234951e1b0faf579e24fe77c71b4cdf8dd2cc"
  }
 },
 "nbformat": 4,
 "nbformat_minor": 2,
 "cells": [
  {
   "cell_type": "code",
   "execution_count": 1,
   "metadata": {},
   "outputs": [],
   "source": [
    "#print row ของ Duration, Pulse, Maxpulse, Calories ที่น้อยที่สุด\n",
    "import pandas as pd\n",
    "import numpy as np"
   ]
  },
  {
   "cell_type": "code",
   "execution_count": 2,
   "metadata": {},
   "outputs": [
    {
     "output_type": "stream",
     "name": "stdout",
     "text": [
      "Duration     15.0\nPulse        80.0\nMaxpulse    100.0\nCalories     50.5\nName: 93, dtype: float64\nDuration     15.0\nPulse       124.0\nMaxpulse    139.0\nCalories    124.2\nName: 112, dtype: float64\n"
     ]
    }
   ],
   "source": [
    "#ตย.1\n",
    "a = pd.read_csv(\"data.csv\")\n",
    "list1 = []\n",
    "\n",
    "for x in range(169):\n",
    "    list1.append(a.loc[x,\"Duration\"])\n",
    "list1.sort(reverse = True) #เรียงจากมากไปน้อย\n",
    "\n",
    "for x in range(169):\n",
    "  if list1[168] >= a.loc[x,\"Duration\"]:\n",
    "     print(a.loc[x])"
   ]
  },
  {
   "cell_type": "code",
   "execution_count": 3,
   "metadata": {},
   "outputs": [
    {
     "output_type": "stream",
     "name": "stdout",
     "text": [
      "Duration     15.0\nPulse        80.0\nMaxpulse    100.0\nCalories     50.5\nName: 93, dtype: float64\nDuration     15.0\nPulse       124.0\nMaxpulse    139.0\nCalories    124.2\nName: 112, dtype: float64\n"
     ]
    }
   ],
   "source": [
    "#ตย.2\n",
    "a = pd.read_csv(\"data.csv\")\n",
    "list1 = []\n",
    "\n",
    "for x in range(169):\n",
    "    list1.append(a[\"Duration\"].loc[x])\n",
    "list1.sort()\n",
    "\n",
    "for y in range(169):\n",
    "    if a[\"Duration\"].loc[y] == list1[0]:\n",
    "        print(a.loc[y])"
   ]
  },
  {
   "cell_type": "code",
   "execution_count": null,
   "metadata": {},
   "outputs": [],
   "source": []
  }
 ]
}