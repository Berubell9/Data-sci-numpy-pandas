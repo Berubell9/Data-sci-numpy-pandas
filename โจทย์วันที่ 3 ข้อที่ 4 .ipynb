{
 "metadata": {
  "language_info": {
   "codemirror_mode": {
    "name": "ipython",
    "version": 3
   },
   "file_extension": ".py",
   "mimetype": "text/x-python",
   "name": "python",
   "nbconvert_exporter": "python",
   "pygments_lexer": "ipython3",
   "version": "3.9.5"
  },
  "orig_nbformat": 4,
  "kernelspec": {
   "name": "python3",
   "display_name": "Python 3.9.5 64-bit"
  },
  "interpreter": {
   "hash": "be0d47e84fc7e33404042284385234951e1b0faf579e24fe77c71b4cdf8dd2cc"
  }
 },
 "nbformat": 4,
 "nbformat_minor": 2,
 "cells": [
  {
   "cell_type": "code",
   "execution_count": 3,
   "metadata": {},
   "outputs": [],
   "source": [
    "import numpy as np\n",
    "import pandas as pd"
   ]
  },
  {
   "cell_type": "code",
   "execution_count": 5,
   "metadata": {},
   "outputs": [
    {
     "output_type": "stream",
     "name": "stdout",
     "text": [
      "10790\n"
     ]
    }
   ],
   "source": [
    "#หาผลรวมของ Duration\n",
    "a = pd.read_csv(\"data.csv\")\n",
    "\n",
    "sum = 0\n",
    "for x in range(169):\n",
    "    sum = sum + a.loc[x,\"Duration\"]\n",
    "print(sum)"
   ]
  },
  {
   "cell_type": "code",
   "execution_count": 9,
   "metadata": {},
   "outputs": [
    {
     "output_type": "stream",
     "name": "stdout",
     "text": [
      "63.84615384615385\n"
     ]
    }
   ],
   "source": [
    "#หาค่าเฉลี่ยของ Duration\n",
    "a = pd.read_csv(\"data.csv\")\n",
    "\n",
    "sum = 0\n",
    "for x in a.index:\n",
    "    sum = sum + a.loc[x,\"Duration\"]\n",
    "print(sum/169)"
   ]
  },
  {
   "cell_type": "code",
   "execution_count": 11,
   "metadata": {},
   "outputs": [
    {
     "output_type": "stream",
     "name": "stdout",
     "text": [
      "107.46153846153847\n"
     ]
    }
   ],
   "source": [
    "#หาค่าเฉลี่ยของ Pulse\n",
    "a = pd.read_csv(\"data.csv\")\n",
    "\n",
    "sum = 0\n",
    "for x in a.index:\n",
    "    sum = sum + a.loc[x,\"Pulse\"]\n",
    "print(sum/169)"
   ]
  },
  {
   "cell_type": "code",
   "execution_count": null,
   "metadata": {},
   "outputs": [],
   "source": []
  }
 ]
}